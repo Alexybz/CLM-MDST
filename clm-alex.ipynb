{
 "cells": [
  {
   "cell_type": "code",
   "execution_count": 18,
   "metadata": {},
   "outputs": [],
   "source": [
    "from collections import defaultdict\n",
    "import matplotlib.pyplot as plt\n",
    "import matplotlib.cm as cm\n",
    "import numpy as np\n",
    "import regex as re\n",
    "from datasets import load_dataset, Dataset"
   ]
  },
  {
   "cell_type": "code",
   "execution_count": 19,
   "metadata": {},
   "outputs": [],
   "source": [
    "def get_data(n: int) -> Dataset:\n",
    "    \"\"\"Pull n samples of the codeparrot dataset onto memory, after filtering for Python code.\"\"\"\n",
    "    # https://huggingface.co/datasets/codeparrot/github-code\n",
    "    # Load the dataset\n",
    "    ds = load_dataset(\"codeparrot/github-code\", streaming=True, split=\"train\")\n",
    "\n",
    "    # TODO: Filter the dataset for only Python code\n",
    "    ds = ds.filter(lambda x:x [\"language\"] ==\"Python\")\n",
    "\n",
    "    ds = ds.take(n)\n",
    "\n",
    "    return ds\n",
    "\n",
    "# We will only load 1,000 samples for now\n",
    "dataset = get_data(1_000)"
   ]
  },
  {
   "cell_type": "code",
   "execution_count": 20,
   "metadata": {},
   "outputs": [
    {
     "data": {
      "text/plain": [
       "{'code': 'from django import forms\\nfrom django.core.exceptions import ValidationError\\nfrom django.core.validators import validate_slug\\nfrom django.db import models\\nfrom django.utils import simplejson as json\\nfrom django.utils.text import capfirst\\nfrom django.utils.translation import ugettext_lazy as _\\n\\nfrom philo.forms.fields import JSONFormField\\nfrom philo.utils.registry import RegistryIterator\\nfrom philo.validators import TemplateValidator, json_validator\\n#from philo.models.fields.entities import *\\n\\n\\nclass TemplateField(models.TextField):\\n\\t\"\"\"A :class:`TextField` which is validated with a :class:`.TemplateValidator`. ``allow``, ``disallow``, and ``secure`` will be passed into the validator\\'s construction.\"\"\"\\n\\tdef __init__(self, allow=None, disallow=None, secure=True, *args, **kwargs):\\n\\t\\tsuper(TemplateField, self).__init__(*args, **kwargs)\\n\\t\\tself.validators.append(TemplateValidator(allow, disallow, secure))\\n\\n\\nclass JSONDescriptor(object):\\n\\tdef __init__(self, field):\\n\\t\\tself.field = field\\n\\t\\n\\tdef __get__(self, instance, owner):\\n\\t\\tif instance is None:\\n\\t\\t\\traise AttributeError # ?\\n\\t\\t\\n\\t\\tif self.field.name not in instance.__dict__:\\n\\t\\t\\tjson_string = getattr(instance, self.field.attname)\\n\\t\\t\\tinstance.__dict__[self.field.name] = json.loads(json_string)\\n\\t\\t\\n\\t\\treturn instance.__dict__[self.field.name]\\n\\t\\n\\tdef __set__(self, instance, value):\\n\\t\\tinstance.__dict__[self.field.name] = value\\n\\t\\tsetattr(instance, self.field.attname, json.dumps(value))\\n\\t\\n\\tdef __delete__(self, instance):\\n\\t\\tdel(instance.__dict__[self.field.name])\\n\\t\\tsetattr(instance, self.field.attname, json.dumps(None))\\n\\n\\nclass JSONField(models.TextField):\\n\\t\"\"\"A :class:`TextField` which stores its value on the model instance as a python object and stores its value in the database as JSON. Validated with :func:`.json_validator`.\"\"\"\\n\\tdefault_validators = [json_validator]\\n\\t\\n\\tdef get_attname(self):\\n\\t\\treturn \"%s_json\" % self.name\\n\\t\\n\\tdef contribute_to_class(self, cls, name):\\n\\t\\tsuper(JSONField, self).contribute_to_class(cls, name)\\n\\t\\tsetattr(cls, name, JSONDescriptor(self))\\n\\t\\tmodels.signals.pre_init.connect(self.fix_init_kwarg, sender=cls)\\n\\t\\n\\tdef fix_init_kwarg(self, sender, args, kwargs, **signal_kwargs):\\n\\t\\t# Anything passed in as self.name is assumed to come from a serializer and\\n\\t\\t# will be treated as a json string.\\n\\t\\tif self.name in kwargs:\\n\\t\\t\\tvalue = kwargs.pop(self.name)\\n\\t\\t\\t\\n\\t\\t\\t# Hack to handle the xml serializer\\'s handling of \"null\"\\n\\t\\t\\tif value is None:\\n\\t\\t\\t\\tvalue = \\'null\\'\\n\\t\\t\\t\\n\\t\\t\\tkwargs[self.attname] = value\\n\\t\\n\\tdef formfield(self, *args, **kwargs):\\n\\t\\tkwargs[\"form_class\"] = JSONFormField\\n\\t\\treturn super(JSONField, self).formfield(*args, **kwargs)\\n\\n\\nclass SlugMultipleChoiceField(models.Field):\\n\\t\"\"\"Stores a selection of multiple items with unique slugs in the form of a comma-separated list. Also knows how to correctly handle :class:`RegistryIterator`\\\\ s passed in as choices.\"\"\"\\n\\t__metaclass__ = models.SubfieldBase\\n\\tdescription = _(\"Comma-separated slug field\")\\n\\t\\n\\tdef get_internal_type(self):\\n\\t\\treturn \"TextField\"\\n\\t\\n\\tdef to_python(self, value):\\n\\t\\tif not value:\\n\\t\\t\\treturn []\\n\\t\\t\\n\\t\\tif isinstance(value, list):\\n\\t\\t\\treturn value\\n\\t\\t\\n\\t\\treturn value.split(\\',\\')\\n\\t\\n\\tdef get_prep_value(self, value):\\n\\t\\treturn \\',\\'.join(value)\\n\\t\\n\\tdef formfield(self, **kwargs):\\n\\t\\t# This is necessary because django hard-codes TypedChoiceField for things with choices.\\n\\t\\tdefaults = {\\n\\t\\t\\t\\'widget\\': forms.CheckboxSelectMultiple,\\n\\t\\t\\t\\'choices\\': self.get_choices(include_blank=False),\\n\\t\\t\\t\\'label\\': capfirst(self.verbose_name),\\n\\t\\t\\t\\'required\\': not self.blank,\\n\\t\\t\\t\\'help_text\\': self.help_text\\n\\t\\t}\\n\\t\\tif self.has_default():\\n\\t\\t\\tif callable(self.default):\\n\\t\\t\\t\\tdefaults[\\'initial\\'] = self.default\\n\\t\\t\\t\\tdefaults[\\'show_hidden_initial\\'] = True\\n\\t\\t\\telse:\\n\\t\\t\\t\\tdefaults[\\'initial\\'] = self.get_default()\\n\\t\\t\\n\\t\\tfor k in kwargs.keys():\\n\\t\\t\\tif k not in (\\'coerce\\', \\'empty_value\\', \\'choices\\', \\'required\\',\\n\\t\\t\\t\\t\\t\\t \\'widget\\', \\'label\\', \\'initial\\', \\'help_text\\',\\n\\t\\t\\t\\t\\t\\t \\'error_messages\\', \\'show_hidden_initial\\'):\\n\\t\\t\\t\\tdel kwargs[k]\\n\\t\\t\\n\\t\\tdefaults.update(kwargs)\\n\\t\\tform_class = forms.TypedMultipleChoiceField\\n\\t\\treturn form_class(**defaults)\\n\\t\\n\\tdef validate(self, value, model_instance):\\n\\t\\tinvalid_values = []\\n\\t\\tfor val in value:\\n\\t\\t\\ttry:\\n\\t\\t\\t\\tvalidate_slug(val)\\n\\t\\t\\texcept ValidationError:\\n\\t\\t\\t\\tinvalid_values.append(val)\\n\\t\\t\\n\\t\\tif invalid_values:\\n\\t\\t\\t# should really make a custom message.\\n\\t\\t\\traise ValidationError(self.error_messages[\\'invalid_choice\\'] % invalid_values)\\n\\t\\n\\tdef _get_choices(self):\\n\\t\\tif isinstance(self._choices, RegistryIterator):\\n\\t\\t\\treturn self._choices.copy()\\n\\t\\telif hasattr(self._choices, \\'next\\'):\\n\\t\\t\\tchoices, self._choices = itertools.tee(self._choices)\\n\\t\\t\\treturn choices\\n\\t\\telse:\\n\\t\\t\\treturn self._choices\\n\\tchoices = property(_get_choices)\\n\\n\\ntry:\\n\\tfrom south.modelsinspector import add_introspection_rules\\nexcept ImportError:\\n\\tpass\\nelse:\\n\\tadd_introspection_rules([], [\"^philo\\\\.models\\\\.fields\\\\.SlugMultipleChoiceField\"])\\n\\tadd_introspection_rules([], [\"^philo\\\\.models\\\\.fields\\\\.TemplateField\"])\\n\\tadd_introspection_rules([], [\"^philo\\\\.models\\\\.fields\\\\.JSONField\"])',\n",
       " 'repo_name': 'ithinksw/philo',\n",
       " 'path': 'philo/models/fields/__init__.py',\n",
       " 'language': 'Python',\n",
       " 'license': 'isc',\n",
       " 'size': 4971}"
      ]
     },
     "execution_count": 20,
     "metadata": {},
     "output_type": "execute_result"
    }
   ],
   "source": [
    "next(iter(dataset))"
   ]
  },
  {
   "cell_type": "code",
   "execution_count": 21,
   "metadata": {},
   "outputs": [
    {
     "name": "stdout",
     "output_type": "stream",
     "text": [
      "2112011\n"
     ]
    }
   ],
   "source": [
    "all_tokens = []\n",
    "for text in dataset:\n",
    "    code = text[\"code\"]\n",
    "    tokens = re.findall(r'\\w+|[^\\w\\s]', code)\n",
    "    all_tokens.extend(tokens)\n",
    "print(len(all_tokens))\n",
    "# TODO: Tokenize the code snippets"
   ]
  },
  {
   "cell_type": "code",
   "execution_count": 22,
   "metadata": {},
   "outputs": [
    {
     "name": "stdout",
     "output_type": "stream",
     "text": [
      "JSON\n",
      ".\n",
      "Validated\n",
      "with\n",
      ":\n",
      "func\n",
      ":\n",
      "`\n",
      ".\n",
      "json_validator\n",
      "`\n",
      ".\n",
      "\"\n",
      "\"\n",
      "\"\n",
      "default_validators\n",
      "=\n",
      "[\n",
      "json_validator\n",
      "]\n",
      "def\n",
      "get_attname\n",
      "(\n",
      "self\n",
      ")\n",
      ":\n",
      "return\n",
      "\"\n",
      "%\n",
      "s_json\n",
      "\"\n",
      "%\n",
      "self\n",
      ".\n",
      "name\n",
      "def\n",
      "contribute_to_class\n",
      "(\n",
      "self\n",
      ",\n"
     ]
    }
   ],
   "source": [
    "for token in all_tokens[410:450]:\n",
    "    print(token)"
   ]
  },
  {
   "cell_type": "code",
   "execution_count": 23,
   "metadata": {},
   "outputs": [],
   "source": [
    "def get_ngrams(n: int, tokens: list) -> defaultdict:\n",
    "    \"\"\"Given a list of tokens, return a dictionary of all the n-grams from the tokens.\"\"\"\n",
    "    ngrams = defaultdict(lambda: defaultdict(int))\n",
    "\n",
    "    # TODO: Implement the n-gram generation here\n",
    "    for i in range(len(tokens) - 2):\n",
    "        first, second, third = all_tokens[i], all_tokens[i+1], all_tokens[i+2]\n",
    "        ngrams[(first, second)][third] += 1\n",
    "    return ngrams\n",
    "\n",
    "three_grams = get_ngrams(3, all_tokens)\n"
   ]
  },
  {
   "cell_type": "code",
   "execution_count": 24,
   "metadata": {},
   "outputs": [
    {
     "name": "stdout",
     "output_type": "stream",
     "text": [
      "defaultdict(<class 'int'>, {'as': 14, '.': 1, 'import': 2, 'except': 1, 'from': 1})\n"
     ]
    }
   ],
   "source": [
    "print(three_grams[(\"import\", \"pandas\")])"
   ]
  },
  {
   "cell_type": "code",
   "execution_count": 25,
   "metadata": {},
   "outputs": [],
   "source": [
    "def plot_model(model: dict, w1: str, w2: str, top_n=10):\n",
    "    \"\"\"Plot the top_n words that follow the bigram (w1, w2) in the model.\"\"\"\n",
    "    words  = [w for w, _ in sorted(model[(w1, w2)].items(), key=lambda x: x[1], reverse=True)[:top_n]]\n",
    "    counts = [c for _, c in sorted(model[(w1, w2)].items(), key=lambda x: x[1], reverse=True)[:top_n]]\n",
    "    colors = cm.rainbow(np.linspace(0, 1, len(words)))\n",
    "    plt.bar(words, counts, color=colors)\n",
    "    plt.xticks(rotation=45)\n",
    "    plt.show()"
   ]
  },
  {
   "cell_type": "code",
   "execution_count": 27,
   "metadata": {},
   "outputs": [
    {
     "data": {
      "image/png": "[encoded data removed]",
      "text/plain": [
       "<Figure size 640x480 with 1 Axes>"
      ]
     },
     "metadata": {},
     "output_type": "display_data"
    }
   ],
   "source": [
    "plot_model(three_grams, \"def\", \"add\")"
   ]
  },
  {
   "cell_type": "code",
   "execution_count": 28,
   "metadata": {},
   "outputs": [
    {
     "data": {
      "image/png": "[encoded data removed]",
      "text/plain": [
       "<Figure size 640x480 with 1 Axes>"
      ]
     },
     "metadata": {},
     "output_type": "display_data"
    }
   ],
   "source": [
    "plot_model(three_grams, \"import\", \"numpy\")"
   ]
  },
  {
   "cell_type": "code",
   "execution_count": 29,
   "metadata": {},
   "outputs": [
    {
     "data": {
      "image/png": "[encoded data removed]",
      "text/plain": [
       "<Figure size 640x480 with 1 Axes>"
      ]
     },
     "metadata": {},
     "output_type": "display_data"
    }
   ],
   "source": [
    "plot_model(three_grams, \"from\", \"django\")"
   ]
  },
  {
   "cell_type": "code",
   "execution_count": null,
   "metadata": {},
   "outputs": [],
   "source": []
  }
 ],
 "metadata": {
  "kernelspec": {
   "display_name": "Python 3",
   "language": "python",
   "name": "python3"
  },
  "language_info": {
   "codemirror_mode": {
    "name": "ipython",
    "version": 3
   },
   "file_extension": ".py",
   "mimetype": "text/x-python",
   "name": "python",
   "nbconvert_exporter": "python",
   "pygments_lexer": "ipython3",
   "version": "3.10.12"
  }
 },
 "nbformat": 4,
 "nbformat_minor": 2
}
